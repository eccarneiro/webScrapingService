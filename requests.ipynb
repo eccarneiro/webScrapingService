{
 "cells": [
  {
   "cell_type": "markdown",
   "metadata": {},
   "source": [
    "## Importando bibliotecas necessárias e realizando Web Scraping\n",
    "\n",
    "### Utilizando **Requests** para fazer requisições HTTP e baixar páginas web.\n",
    "### Utilizando **beautifulsoup4** para extrair e manipular dados de HTML/XML de forma fácil."
   ]
  },
  {
   "cell_type": "code",
   "execution_count": 2,
   "metadata": {},
   "outputs": [],
   "source": [
    "import requests\n",
    "from bs4 import BeautifulSoup\n",
    "import os\n",
    "\n",
    "url = \"https://www.gov.br/ans/pt-br/acesso-a-informacao/participacao-da-sociedade/atualizacao-do-rol-de-procedimentos\"\n",
    "response = requests.get(url)\n",
    "\n",
    "headers = {\n",
    "    \"User-Agent\": \"Mozilla/5.0 (Windows NT 10.0; Win64; x64) AppleWebKit/537.36 (KHTML, like Gecko) Chrome/58.0.3029.110 Safari/537.36\"\n",
    "}\n"
   ]
  },
  {
   "cell_type": "markdown",
   "metadata": {},
   "source": [
    "### Função para  download de arquivo PDF"
   ]
  },
  {
   "cell_type": "code",
   "execution_count": 3,
   "metadata": {},
   "outputs": [],
   "source": [
    "def download_pdf(pdf_url, path=\"downloads\"):\n",
    "    os.makedirs(path, exist_ok=True)\n",
    "    filename = os.path.join(path, pdf_url.split(\"/\")[-1])\n",
    "\n",
    "    response = requests.get(pdf_url, headers=headers, stream=True)\n",
    "    if response.status_code == 200:\n",
    "        with open(filename, \"wb\") as f:\n",
    "            for chunk in response.iter_content(1024):\n",
    "                f.write(chunk)\n",
    "        print(f\"Downloaded {filename}\")\n",
    "    else:\n",
    "        print(f\"Failed to download {pdf_url}\")"
   ]
  },
  {
   "cell_type": "markdown",
   "metadata": {},
   "source": [
    "### Verificando os links, para baixar os arquivos desejados"
   ]
  },
  {
   "cell_type": "code",
   "execution_count": 10,
   "metadata": {},
   "outputs": [
    {
     "name": "stdout",
     "output_type": "stream",
     "text": [
      "Link found: https://www.gov.br/ans/pt-br/arquivos/composicao/organograma_ans_geral_setembro_2024-1.pdf\n",
      "Link found: https://www.gov.br/ans/pt-br/acesso-a-informacao/participacao-da-sociedade/atualizacao-do-rol-de-procedimentos/Anexo_I_Rol_2021RN_465.2021_RN627L.2024.pdf\n",
      "Link found: https://www.gov.br/ans/pt-br/acesso-a-informacao/participacao-da-sociedade/atualizacao-do-rol-de-procedimentos/Anexo_II_DUT_2021_RN_465.2021_RN628.2025_RN629.2025.pdf\n",
      "Link found: https://www.gov.br/ans/pt-br/arquivos/assuntos/consumidor/o-que-seu-plano-deve-cobrir/nota13_geas_ggras_dipro_17012013.pdf\n",
      "Link found: https://www.gov.br/ans/pt-br/arquivos/composicao/organograma_ans_geral_setembro_2024-1.pdf\n"
     ]
    }
   ],
   "source": [
    "soup = BeautifulSoup(response.text, \"html.parser\")\n",
    "pdf_links = [a[\"href\"] for a in soup.find_all(\"a\", href=True) if \".pdf\" in a[\"href\"]]\n",
    "for link in pdf_links:\n",
    "    print(f\"Link found: {link}\")"
   ]
  },
  {
   "cell_type": "markdown",
   "metadata": {},
   "source": [
    "### Sabemos que o primeiro link da lista não é o que queremos, então ignoramos ele e baixamos apenas os próximos dois"
   ]
  },
  {
   "cell_type": "code",
   "execution_count": 8,
   "metadata": {},
   "outputs": [
    {
     "name": "stdout",
     "output_type": "stream",
     "text": [
      "Downloaded downloads/Anexo_I_Rol_2021RN_465.2021_RN627L.2024.pdf\n",
      "Downloaded downloads/Anexo_II_DUT_2021_RN_465.2021_RN628.2025_RN629.2025.pdf\n"
     ]
    }
   ],
   "source": [
    "response = requests.get(url, headers=headers)\n",
    "\n",
    "if response.status_code == 200:\n",
    "    soup = BeautifulSoup(response.text, \"html.parser\")\n",
    "    pdf_links = [a[\"href\"] for a in soup.find_all(\"a\", href=True) if \".pdf\" in a[\"href\"]]\n",
    "\n",
    "    pdf_links = pdf_links[1:]\n",
    "    \n",
    "    if len(pdf_links) > 1:\n",
    "        for link in pdf_links[:2]:\n",
    "            if link.startswith(\"/\"):\n",
    "                link = url + link\n",
    "            download_pdf(link)\n",
    "    else:\n",
    "        print(\"No PDFs found\")\n",
    "else:\n",
    "    print(\"Failed to fetch page\")"
   ]
  },
  {
   "cell_type": "markdown",
   "metadata": {},
   "source": [
    "### Compactando os Arquivos em ZIP"
   ]
  },
  {
   "cell_type": "code",
   "execution_count": 9,
   "metadata": {},
   "outputs": [
    {
     "name": "stdout",
     "output_type": "stream",
     "text": [
      "Compressed downloads/Anexo_I_Rol_2021RN_465.2021_RN627L.2024.pdf\n"
     ]
    }
   ],
   "source": [
    "import zipfile\n",
    "import os\n",
    "\n",
    "def compress_zip(path=\"downloads\", name_compress_zip=\"anexos.zip\"):\n",
    "    path_zip = os.path.join(path, name_compress_zip)\n",
    "\n",
    "    with zipfile.ZipFile(path_zip, \"w\", zipfile.ZIP_DEFLATED) as zipf:\n",
    "        for root, dirs, files in os.walk(path):\n",
    "            for file in files:\n",
    "                path_zip = os.path.join(root, file)\n",
    "                zipf.write(path_zip, os.path.relpath(path_zip, path))\n",
    "    print(f\"Compressed {path_zip}\")\n",
    "\n",
    "compress_zip()\n",
    "    "
   ]
  }
 ],
 "metadata": {
  "kernelspec": {
   "display_name": "webscraping",
   "language": "python",
   "name": "python3"
  },
  "language_info": {
   "codemirror_mode": {
    "name": "ipython",
    "version": 3
   },
   "file_extension": ".py",
   "mimetype": "text/x-python",
   "name": "python",
   "nbconvert_exporter": "python",
   "pygments_lexer": "ipython3",
   "version": "3.12.3"
  }
 },
 "nbformat": 4,
 "nbformat_minor": 2
}
